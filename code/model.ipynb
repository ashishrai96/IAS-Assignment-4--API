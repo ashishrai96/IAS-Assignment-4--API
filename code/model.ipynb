{
 "cells": [
  {
   "cell_type": "markdown",
   "metadata": {},
   "source": [
    "##### Import requied libraries"
   ]
  },
  {
   "cell_type": "code",
   "execution_count": 21,
   "metadata": {},
   "outputs": [],
   "source": [
    "import numpy as np\n",
    "import pandas as pd\n",
    "import pickle\n",
    "from sklearn import tree\n",
    "from sklearn.metrics import accuracy_score"
   ]
  },
  {
   "cell_type": "markdown",
   "metadata": {},
   "source": [
    "##### Read data from the required files"
   ]
  },
  {
   "cell_type": "code",
   "execution_count": 22,
   "metadata": {},
   "outputs": [],
   "source": [
    "titanic_data_train = pd.read_csv(\"../titanic/train.csv\")\n",
    "# titanic_data_test = pd.read_csv(\"../titanic/test.csv\")\n",
    "# y_test = pd.read_csv(\"../titanic/gender_submission.csv\")['Survived']\n",
    "# y_test = np.array(y_test)"
   ]
  },
  {
   "cell_type": "markdown",
   "metadata": {},
   "source": [
    "##### Pre-processing of the training data"
   ]
  },
  {
   "cell_type": "markdown",
   "metadata": {},
   "source": [
    "- Handling of NaN value"
   ]
  },
  {
   "cell_type": "code",
   "execution_count": 23,
   "metadata": {},
   "outputs": [],
   "source": [
    "titanic_data_train['Age'].fillna(titanic_data_train['Age'].median(), inplace=True)\n",
    "titanic_data_train['Embarked'].fillna(titanic_data_train['Embarked'].mode()[0], inplace=True)\n",
    "titanic_data_train['Fare'].replace(0,titanic_data_train['Fare'].median(), True)\n",
    "titanic_data_train['Fare'].fillna(titanic_data_train['Fare'].median(), inplace=True)\n",
    "\n",
    "# titanic_data_test['Age'].fillna(titanic_data_test['Age'].median(), inplace=True)\n",
    "# titanic_data_test['Embarked'].fillna(titanic_data_test['Embarked'].mode()[0], inplace=True)\n",
    "# titanic_data_test['Fare'].replace(0, titanic_data_test['Fare'].median(), True)\n",
    "# titanic_data_test['Fare'].fillna(titanic_data_test['Fare'].median(), inplace=True)\n"
   ]
  },
  {
   "cell_type": "markdown",
   "metadata": {},
   "source": [
    "- Replacing string with integer value"
   ]
  },
  {
   "cell_type": "code",
   "execution_count": 24,
   "metadata": {},
   "outputs": [],
   "source": [
    "for i,s in enumerate(titanic_data_train['Sex'].unique()):\n",
    "    titanic_data_train['Sex'].replace(s, i, True)\n",
    "    # titanic_data_test['Sex'].replace(s, i, True)\n",
    "\n",
    "for i,s in enumerate(titanic_data_train['Embarked'].unique()):\n",
    "    titanic_data_train['Embarked'].replace(s, i, True)\n",
    "    # titanic_data_test['Embarked'].replace(s, i, True)"
   ]
  },
  {
   "cell_type": "markdown",
   "metadata": {},
   "source": [
    "- Dropping of irrelevant columns"
   ]
  },
  {
   "cell_type": "code",
   "execution_count": 25,
   "metadata": {},
   "outputs": [],
   "source": [
    "titanic_data_train.drop(labels='Cabin', inplace=True, axis=1)\n",
    "titanic_data_train.drop(labels='Name', inplace=True, axis=1)\n",
    "titanic_data_train.drop(labels='Ticket', inplace=True, axis=1)\n",
    "titanic_data_train.drop(labels='PassengerId', inplace=True, axis=1)\n",
    "\n",
    "# titanic_data_test.drop(labels='Cabin', inplace=True, axis=1)\n",
    "# titanic_data_test.drop(labels='Name', inplace=True, axis=1)\n",
    "# titanic_data_test.drop(labels='Ticket', inplace=True, axis=1)\n",
    "# titanic_data_test.drop(labels='PassengerId', inplace=True, axis=1)"
   ]
  },
  {
   "cell_type": "markdown",
   "metadata": {},
   "source": [
    "##### Preparing Training data to feed"
   ]
  },
  {
   "cell_type": "code",
   "execution_count": 26,
   "metadata": {},
   "outputs": [],
   "source": [
    "X_train = titanic_data_train.loc[:,titanic_data_train.columns != 'Survived']\n",
    "y_train = titanic_data_train['Survived']\n",
    "# X_test = titanic_data_test"
   ]
  },
  {
   "cell_type": "markdown",
   "metadata": {},
   "source": [
    "##### Feeding data into Model"
   ]
  },
  {
   "cell_type": "code",
   "execution_count": 27,
   "metadata": {},
   "outputs": [
    {
     "data": {
      "text/plain": [
       "DecisionTreeClassifier()"
      ]
     },
     "execution_count": 27,
     "metadata": {},
     "output_type": "execute_result"
    }
   ],
   "source": [
    "model = tree.DecisionTreeClassifier()\n",
    "model.fit(X_train,y_train)\n",
    "\n",
    "# y_pred_test = model.predict(X_test)"
   ]
  },
  {
   "cell_type": "markdown",
   "metadata": {},
   "source": [
    "#####  Calculating accuracy score"
   ]
  },
  {
   "cell_type": "code",
   "execution_count": 28,
   "metadata": {},
   "outputs": [],
   "source": [
    "# accuracy_score(y_test, y_pred_test)"
   ]
  },
  {
   "cell_type": "markdown",
   "metadata": {},
   "source": [
    "##### Saving Model object"
   ]
  },
  {
   "cell_type": "code",
   "execution_count": 29,
   "metadata": {},
   "outputs": [],
   "source": [
    "import pickle\n",
    "pickle.dump(model, open('model.pkl', 'wb'))"
   ]
  }
 ],
 "metadata": {
  "interpreter": {
   "hash": "c95268d5eb907effec0133d7bdbad0ee2282e5de34d477590aa145c1f3995fe2"
  },
  "kernelspec": {
   "display_name": "Python 3.9.10 ('ias-asgn': venv)",
   "language": "python",
   "name": "python3"
  },
  "language_info": {
   "codemirror_mode": {
    "name": "ipython",
    "version": 3
   },
   "file_extension": ".py",
   "mimetype": "text/x-python",
   "name": "python",
   "nbconvert_exporter": "python",
   "pygments_lexer": "ipython3",
   "version": "3.9.10"
  },
  "orig_nbformat": 4
 },
 "nbformat": 4,
 "nbformat_minor": 2
}
